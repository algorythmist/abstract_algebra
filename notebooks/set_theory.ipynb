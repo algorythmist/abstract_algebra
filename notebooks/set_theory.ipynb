{
 "cells": [
  {
   "cell_type": "markdown",
   "id": "9807f9e6-785e-4c13-aed9-51b58b50bb99",
   "metadata": {},
   "source": [
    "# Set Theory Preliminaties"
   ]
  },
  {
   "cell_type": "markdown",
   "id": "5c09c797-be76-4bde-b6fe-255ccb19091a",
   "metadata": {},
   "source": [
    "Let $A, B$ be sets. A *Relation* $R$ from $A$, to $B$ is a subset of $A\\times B$. \n",
    "A *function* is a relation such that $(a,b_1) \\in R \\implies (a,b_2) \\notin R, \\forall b_2 \\neq b_1$.\n",
    "Of course, functions have their own special notation, and we write $f(a) = b$ if $(a,b) \\in R$.\n",
    "A function is $one to one$ or $injective$ if $f(a_1) = f(a_2) \\implies a_1 = a_2$."
   ]
  },
  {
   "cell_type": "markdown",
   "id": "48c793cd-7353-47cc-9467-60fe6c1cb978",
   "metadata": {},
   "source": [
    "The following definitions apply to relations on the set itselt, i.e. subsets of $A \\times A$.\n",
    "A relation R is\n",
    "\n",
    "1) **Reflexive** if $(a,a) \\in R, \\forall a \\in A$\n",
    "2) **Symmetric** if $(a,b) \\in R \\implies (b.a) \\in R$\n",
    "3) **Transitive** if $(a,b) \\in R$ and $(b,c) \\in R \\implies (a,c) \\in R$\n",
    "\n",
    "A relation is an **Equivalence Relation** if it satisfies all the above properties.\n",
    "\n"
   ]
  },
  {
   "cell_type": "markdown",
   "id": "1ecdf4ff-449a-46f0-9ed7-281ea4fc66a0",
   "metadata": {},
   "source": [
    "Theorem: An equivence relation partitions a set $S$ into a collection of disjoint subsets. Conversely, any partition of $S$ defines an equivalnce relation. Each subset is called an equivalence class.\n",
    "\n",
    "Notation: $a \\sim b$  or $a \\equiv b$.  The equivalence class of a is denoted by [a]."
   ]
  },
  {
   "cell_type": "markdown",
   "id": "ea107ddb-52a4-4561-8f0c-968a6bdaaa56",
   "metadata": {},
   "source": [
    "## Computer Science\n",
    "\n",
    "- Directed Graphs are relations on finite sets\n",
    "- \"Group by\" creates an equivalence relation\n",
    "- Finding Equivalences in Graphs via Connected Components\n",
    "- Finding Equivalences with Union Find"
   ]
  },
  {
   "cell_type": "code",
   "execution_count": null,
   "id": "3bfebe55-30c5-4458-894b-17d5d2db3780",
   "metadata": {},
   "outputs": [],
   "source": []
  }
 ],
 "metadata": {
  "kernelspec": {
   "display_name": "abstract-algebra",
   "language": "python",
   "name": "abstract-algebra"
  },
  "language_info": {
   "codemirror_mode": {
    "name": "ipython",
    "version": 3
   },
   "file_extension": ".py",
   "mimetype": "text/x-python",
   "name": "python",
   "nbconvert_exporter": "python",
   "pygments_lexer": "ipython3",
   "version": "3.11.10"
  }
 },
 "nbformat": 4,
 "nbformat_minor": 5
}
