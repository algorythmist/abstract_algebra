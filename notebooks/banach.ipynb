{
 "cells": [
  {
   "cell_type": "markdown",
   "id": "76afd5d3-7e0b-4f97-a7c1-ec0db3596ce1",
   "metadata": {},
   "source": [
    "# Overview of C* Algebras"
   ]
  },
  {
   "cell_type": "markdown",
   "id": "d298c46a-7b62-4846-9c60-984d132459d0",
   "metadata": {},
   "source": [
    "A **normed vector space** is a vector space equipped with a norm, which is a function that assigns a non-negative real number to each vector in the space. The norm measures the \"length\" or \"size\" of the vector. Here's a breakdown of its key properties:\r\n",
    "\r\n",
    "1. **Vector Space**:  \r\n",
    "   A normed vector space is first and foremost a vector space $V$ over a field (usually $\\mathbb{R}$ or $\\mathbb{C}$), which means:\r\n",
    "   - It is closed under vector addition: For any vectors $\\mathbf{u}, \\mathbf{v} \\in V$, the sum $\\mathbf{u} + \\mathbf{v} \\in V$.\r\n",
    "   - It is closed under scalar multiplication: For any vector $\\mathbf{v} \\in V$ and scalar $\\alpha$, the scalar product $\\alpha \\mathbf{v} \\in V$.\r\n",
    "\r\n",
    "2. **Norm**:  \r\n",
    "   The norm is a function $\\|\\cdot\\| : V \\to \\mathbb{R}$ that assigns a real number $\\|\\mathbf{v}\\|$ (the \"norm\" of $\\mathbf{v}$) to each vector $\\mathbf{v} \\in V$. It must satisfy the following properties for all $\\mathbf{u}, \\mathbf{v} \\in V$ and scalars $ysics, and engineering.\r\n"
   ]
  },
  {
   "cell_type": "markdown",
   "id": "b9f94e24-a9eb-494c-ab0e-a5604044617d",
   "metadata": {},
   "source": [
    "- **Non-negativity**:  \n",
    "     $\\|\\mathbf{v}\\| \\geq 0$, and $\\|\\mathbf{v}\\| = 0$ if and only if $\\mathbf{v} = \\mathbf{0}$ (the zero vector)."
   ]
  },
  {
   "cell_type": "markdown",
   "id": "d18b8d43-d0c0-46ef-8caf-7dbe032e5dae",
   "metadata": {},
   "source": [
    "- **Positive homogeneity** (or scalability):  \n",
    "  $\\|\\alpha \\mathbf{v}\\| = |\\alpha| \\|\\mathbf{v}\\|$, where $|\\alpha|$ is the absolute value of the scalar $\\alpha$.\n"
   ]
  },
  {
   "cell_type": "markdown",
   "id": "63651e1f-9282-4c6b-8aa8-328b65dd809d",
   "metadata": {},
   "source": [
    "- **Triangle inequality** (or sub-additivity):  \n",
    "     $\\|\\mathbf{u} + \\mathbf{v}\\| \\leq \\|\\mathbf{u}\\| + \\|\\mathbf{v}\\|$."
   ]
  },
  {
   "cell_type": "markdown",
   "id": "58be38c3-703e-49a3-9c9b-3c501183bd55",
   "metadata": {},
   "source": [
    "Notes:\n",
    "\n",
    "- An inner product on $<,>$ on $V$ induces a norm by setting $\\|\\mathbf{v}\\| \\equiv \\sqrt{<\\mathbf{v},\\mathbf{v}>}$\n",
    "- A norm induces a metric, which is the distance function $d(\\mathbf{u}, \\mathbf{v}) = \\|\\mathbf{u} - \\mathbf{v}\\|$. This makes the normed space a metric space, allowing concepts like convergence and continuity to be defined.\n"
   ]
  },
  {
   "cell_type": "markdown",
   "id": "02cca81a-daf8-485f-8d24-b17215f20453",
   "metadata": {},
   "source": [
    "### Linear Operator on a Normed Vector Space\n",
    "\n",
    "Let $V$ and $W$ be normed vector spaces over a field (usually $\\mathbb{R}$ or $\\mathbb{C}$). A function $T : V \\to W$ is called a **linear operator** (or **linear map**) if for all vectors $\\mathbf{u}, \\mathbf{v} \\in V$ and all scalars $\\alpha \\in \\mathbb{R}$ (or $\\mathbb{C}$), the following properties hold:\n",
    "\n",
    "1. **Additivity** (or superposition):\n",
    "   $\n",
    "   T(\\mathbf{u} + \\mathbf{v}) = T(\\mathbf{u}) + T(\\mathbf{v})\n",
    "   $\n",
    "\n",
    "2. **Homogeneity** (or scalar multiplication compatibility):\n",
    "   $\n",
    "   T(\\alpha \\mathbf{v}) = \\alpha T(\\mathbf{v})\n",
    "   $"
   ]
  },
  {
   "cell_type": "markdown",
   "id": "65af8dd6-aae6-41a3-bbb5-8206fbf902eb",
   "metadata": {},
   "source": [
    "The space of linear operators from a vector space onto itself  $T : V \\to V$ is itself a vector space, with addition and scalar multiplication defined in a pointwise manner:\n",
    "\n",
    "- $(T+S)\\mathbf{v} = T\\mathbf{v} + S\\mathbf{v}$\n",
    "- $(aT)\\mathbf{v} = a (T\\mathbf{v})$"
   ]
  },
  {
   "cell_type": "markdown",
   "id": "0693ec7e-612f-4a79-80a1-d40e6ae22a4b",
   "metadata": {},
   "source": [
    "If $V$ is a normed vector space, we can also talk about the **norm** of the operator $T$, which is defined as:\n",
    "\n",
    "$$\n",
    "\\|T\\| = \\sup_{\\|\\mathbf{v}\\| \\leq 1} \\|T(\\mathbf{v})\\|\n",
    "$$\n",
    "\n",
    "This norm gives a measure of how much the operator can \"stretch\" vectors in $V$."
   ]
  },
  {
   "cell_type": "markdown",
   "id": "292662da-f5df-4f36-87fd-56d3eebcd734",
   "metadata": {},
   "source": [
    "Besides addition, we can also define a sort of multiplication on the space of linear operators, by composition.\n",
    "- $(AB)\\mathbf{v} = A (B\\mathbf{v})$\n",
    "\n",
    "This makes the space of operators an **Algebra**, which is defined as follows:"
   ]
  },
  {
   "cell_type": "markdown",
   "id": "5b78013f-e120-41e7-bf3b-768c05bdd205",
   "metadata": {},
   "source": [
    "### Definition of an Algebra\n",
    "\n",
    "Let $A$ be a set, and let $\\mathbb{F}$ be a field (e.g., $\\mathbb{R}$ or $\\mathbb{C}$). The set $A$ is called an **algebra** over the field $\\mathbb{F}$ if it satisfies the following properties:\n",
    "\n",
    "1. **Vector Space Structure**:\n",
    "   - $A$ is a vector space over the field $\\mathbb{F}$. This means:\n",
    "     - **Vector addition**: For all $x, y \\in A$, the sum $x + y \\in A$.\n",
    "     - **Scalar multiplication**: For all $x \\in A$ and $\\alpha \\in \\mathbb{F}$, the product $\\alpha x \\in A$.\n",
    "\n",
    "2. **Bilinear Multiplication**:\n",
    "   - $A$ is equipped with a bilinear operation (multiplication) $\\cdot : A \\times A \\to A$, such that for all $x, y, z \\in A$ and $\\alpha \\in \\mathbb{F}$, the following properties hold:\n",
    "     - **Distributivity** over vector addition:\n",
    "       $\n",
    "       x \\cdot (y + z) = x \\cdot y + x \\cdot z \\quad \\text{and} \\quad (x + y) \\cdot z = x \\cdot z + y \\cdot z\n",
    "       $\n",
    "     - **Compatibility with scalar multiplication**:\n",
    "       $\n",
    "       (\\alpha x) \\cdot y = \\alpha (x \\cdot y) \\quad \\text{and} \\quad x \\cdot (\\alpha y) = \\alpha (x \\cdot y)\n",
    "       $"
   ]
  },
  {
   "cell_type": "markdown",
   "id": "0d92ae7c-0a20-438d-b1d9-5faa0760c1b4",
   "metadata": {},
   "source": [
    "Composition makes the operator algebra naturally associative but not necessarily commutative."
   ]
  },
  {
   "cell_type": "markdown",
   "id": "5b377501-dede-47c3-8b88-b899e4a665a9",
   "metadata": {},
   "source": [
    "## Topological considerations\n",
    "\n",
    "When studying vector spaces, we are concerned about whether a given sequence of vectors $v_n$ of a sum $\\sum_{n=1}^\\infty a_n v_n$ converges and what it converges to. In particular, if such a sequence converges, we want to make sure it converges to a vector that is still in the vector space.\n",
    "To capture this concept, we need an additional property:\n",
    "\n",
    "- A metric space is **Complete** if every Cauchy sequence in the space converges to a point in the space.\n",
    "\n",
    "A Cauchy sequence is a sequence whose points get closer and closer together. Its formal definition is:\n"
   ]
  },
  {
   "cell_type": "markdown",
   "id": "facc83bb-13e4-4103-b52c-f321e2a0a926",
   "metadata": {},
   "source": [
    "### Definition of a Cauchy Sequence\n",
    "\n",
    "Let $(x_n)$ be a sequence in a metric space $(X, d)$, where $d$ is the distance function. The sequence $(x_n)$ is called a **Cauchy sequence** if, for every $\\epsilon > 0$, there exists a positive integer $N$ such that for all integers $m, n \\geq N$, the following condition holds:\n",
    "\n",
    "$$\n",
    "d(x_m, x_n) < \\epsilon\n",
    "$$\n",
    "\n",
    "In other words, the terms of the sequence become arbitrarily close to each other as the sequence progresses. A Cauchy sequence is important in analysis because, in a complete metric space, every Cauchy sequence converges to a limit within that space.\n"
   ]
  },
  {
   "cell_type": "markdown",
   "id": "09e4979c-c1c5-4cb6-bff6-577f37508e07",
   "metadata": {},
   "source": [
    "A complete, normed vector space is called a **Banach Space**."
   ]
  },
  {
   "cell_type": "markdown",
   "id": "c06fdf5f-18df-4e8d-8629-b98c58dafd24",
   "metadata": {},
   "source": [
    "### Definition of the Conjugate of an Operator\n",
    "\n",
    "Let $T$ be a linear operator acting on a complex Hilbert space $\\mathcal{H}$. The **conjugate** (or **adjoint**) of the operator $T$, denoted by $T^\\dagger$, is the operator that satisfies the following condition:\n",
    "\n",
    "$$\n",
    "\\langle T\\psi, \\phi \\rangle = \\langle \\psi, T^\\dagger \\phi \\rangle \\quad \\text{for all} \\quad \\psi, \\phi \\in \\mathcal{H},\n",
    "$$\n",
    "\n",
    "where $\\langle \\cdot, \\cdot \\rangle$ represents the inner product in the Hilbert space.\n",
    "\n",
    "In other words, $T^\\dagger$ is the unique operator such that the inner product of $T\\psi$ with any vector $\\phi$ is equal to the inner product of $\\psi$ with $T^\\dagger \\phi$. If $T = T^\\dagger$, the operator is called **Hermitian** (or self-adjoint).\n"
   ]
  },
  {
   "cell_type": "markdown",
   "id": "ee8e7518-8274-48a7-9b84-841a8cd41ed2",
   "metadata": {},
   "source": [
    "### Definition of a Hermitian Operator\r\n",
    "\r\n",
    "Let $H$ be a linear operator acting on a complex Hilbert space $\\mathcal{H}$. The operator $H$ is called **Hermitian** (or **self-adjoint**) if it satisfies the following condition:\r\n",
    "\r\n",
    "$$\r\n",
    "\\langle H\\psi, \\phi \\rangle = \\langle \\psi, H\\phi \\rangle \\quad \\text{for all} \\quad \\psi, \\phi \\in \\mathcal{H},\r\n",
    "$$\r\n",
    "\r\n",
    "where $\\langle \\cdot, \\cdot \\rangle$ denotes the inner product in the Hilbert space.\r\n",
    "\r\n",
    "In other words, an operator $H$ is Hermitian if it is equal to its own adjoint (or conjugate transpose), meaning that $H = H^\\dagger$. Hermitian operators have real eigenvalues and are important in quantum mechanics, where they represent observable quantities.\r\n"
   ]
  },
  {
   "cell_type": "markdown",
   "id": "847dba45-d253-4393-9848-bc5253b40455",
   "metadata": {},
   "source": [
    "Proposition\n",
    "\n",
    "- $\\|A^\\dagger\\| = \\|A\\|$\n",
    "- $\\|A^\\dagger A\\| = \\|A\\|^2$"
   ]
  },
  {
   "cell_type": "markdown",
   "id": "d352f04f-0b63-4e48-bf8b-599a172a8c9e",
   "metadata": {},
   "source": [
    "Proposition\n",
    "$$\n",
    "Range(A)^{\\perp} = Ker(A^\\dagger)\n",
    "$$"
   ]
  },
  {
   "cell_type": "markdown",
   "id": "f7b75865-56df-4886-b675-eec2f905642a",
   "metadata": {},
   "source": [
    "### Definition of the Resolvent and Spectrum of an Operator\n",
    "\n",
    "Let $T$ be a linear operator acting on a complex Hilbert space $\\mathcal{H}$, and let $\\lambda \\in \\mathbb{C}$ be a complex number. The **resolvent** and the **spectrum** of the operator $T$ are defined as follows:\n",
    "\n",
    "1. **Resolvent**:  \n",
    "   The **resolvent set** of $T$, denoted by $\\rho(T)$, is the set of all complex numbers $\\lambda \\in \\mathbb{C}$ such that the operator $(T - \\lambda I)$ has a bounded inverse. In other words:\n",
    "\n",
    "   $$\n",
    "   \\rho(T) = \\{ \\lambda \\in \\mathbb{C} \\mid (T - \\lambda I)^{-1} \\text{ exists and is bounded} \\}\n",
    "   $$\n",
    "\n",
    "   The operator $(T - \\lambda I)^{-1}$ is called the **resolvent operator** of $T$ at $\\lambda$.\n",
    "\n",
    "2. **Spectrum**:  \n",
    "   The **spectrum** of $T$, denoted by $\\sigma(T)$, is the set of all complex numbers $\\lambda \\in \\mathbb{C}$ for which the operator $(T - \\lambda I)$ does not have a bounded inverse. Formally:\n",
    "\n",
    "   $$\n",
    "   \\sigma(T) = \\mathbb{C} \\setminus \\rho(T)\n",
    "   $$\n",
    "\n",
    "   The spectrum of $T$ can be further divided into three parts:\n",
    "   - The **point spectrum** (eigenvalues): $\\lambda \\in \\sigma(T)$ if $(T - \\lambda I)$ is not injective.\n",
    "   - The **continuous spectrum**: $\\lambda \\in \\sigma(T)$ if $(T - \\lambda I)$ is injective but not surjective, and its inverse is unbounded.\n",
    "   - The **residual spectrum**: $\\lambda \\in \\sigma(T)$ if $(T - \\lambda I)$ is injective but its range is not dense in $\\mathcal{H}$.\n",
    "\n",
    "Together, the resolvent and the spectrum provide critical information about the behavior and properties of the operator $T$, particularly in the context of functional analysis and quantum mechanics.\n"
   ]
  },
  {
   "cell_type": "code",
   "execution_count": null,
   "id": "ee7aa90e-0b19-481f-95b3-4a98b784c4e1",
   "metadata": {},
   "outputs": [],
   "source": []
  }
 ],
 "metadata": {
  "kernelspec": {
   "display_name": "abstract-algebra",
   "language": "python",
   "name": "abstract-algebra"
  },
  "language_info": {
   "codemirror_mode": {
    "name": "ipython",
    "version": 3
   },
   "file_extension": ".py",
   "mimetype": "text/x-python",
   "name": "python",
   "nbconvert_exporter": "python",
   "pygments_lexer": "ipython3",
   "version": "3.11.10"
  }
 },
 "nbformat": 4,
 "nbformat_minor": 5
}
